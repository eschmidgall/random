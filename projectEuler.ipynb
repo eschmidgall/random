{
 "cells": [
  {
   "cell_type": "code",
   "execution_count": 1,
   "metadata": {},
   "outputs": [],
   "source": [
    "import numpy as np"
   ]
  },
  {
   "cell_type": "code",
   "execution_count": 5,
   "metadata": {},
   "outputs": [
    {
     "name": "stdout",
     "output_type": "stream",
     "text": [
      "233168\n"
     ]
    }
   ],
   "source": [
    "#Problem 1\n",
    "sum = 0\n",
    "\n",
    "for n in range(1000):\n",
    "    if n%3==0: \n",
    "        sum+=n\n",
    "        continue\n",
    "    if n%5==0: \n",
    "        sum+=n\n",
    "        continue\n",
    "\n",
    "print(sum)"
   ]
  },
  {
   "cell_type": "code",
   "execution_count": 9,
   "metadata": {},
   "outputs": [
    {
     "name": "stdout",
     "output_type": "stream",
     "text": [
      "The sum of even numbered terms is 4613732\n"
     ]
    }
   ],
   "source": [
    "#Problem 2\n",
    "n_n = 1\n",
    "n_nm1 = 1\n",
    "\n",
    "sum =0\n",
    "for m in range(100):\n",
    "    next = n_n+n_nm1\n",
    "    n_nm1 = n_n\n",
    "    n_n = next\n",
    "    if next%2==0: \n",
    "        sum+=next\n",
    "    if next > 4e6: \n",
    "        break\n",
    "print(f'The sum of even numbered terms is {sum}')"
   ]
  },
  {
   "cell_type": "code",
   "execution_count": 11,
   "metadata": {},
   "outputs": [],
   "source": [
    "def primes(n):\n",
    "    \"\"\" Returns  a list of primes < n \"\"\"\n",
    "    sieve = [True] * n\n",
    "    for i in range(3,int(n**0.5)+1,2):\n",
    "        if sieve[i]:\n",
    "            sieve[i*i::2*i]=[False]*((n-i*i-1)//(2*i)+1)\n",
    "    return [2] + [i for i in range(3,n,2) if sieve[i]]"
   ]
  },
  {
   "cell_type": "code",
   "execution_count": 18,
   "metadata": {},
   "outputs": [
    {
     "name": "stdout",
     "output_type": "stream",
     "text": [
      "Largest prime factor is 6857\n"
     ]
    }
   ],
   "source": [
    "#Problem 3\n",
    "num = 600851475143\n",
    "lprimes = primes(int(np.sqrt(num)))\n",
    "factors = []\n",
    "for n in lprimes: \n",
    "    if num%n==0: \n",
    "        factors.append(n)\n",
    "print(f'Largest prime factor is {factors[-1]}')\n",
    "\n"
   ]
  },
  {
   "cell_type": "code",
   "execution_count": 47,
   "metadata": {},
   "outputs": [],
   "source": [
    "def is_palindrome(num):\n",
    "    stnum = str(num)\n",
    "    notdone = True\n",
    "    while notdone: \n",
    "        if not(stnum[0]==stnum[len(stnum)-1]):\n",
    "            return False\n",
    "        stnum = stnum[1:len(stnum)-1]\n",
    "        if len(stnum)<=1: \n",
    "            return True\n",
    "\n"
   ]
  },
  {
   "cell_type": "code",
   "execution_count": 52,
   "metadata": {},
   "outputs": [
    {
     "name": "stdout",
     "output_type": "stream",
     "text": [
      "906609\n"
     ]
    }
   ],
   "source": [
    "#Problem 4 \n",
    "largestPal = 0\n",
    "for n in range(100,1000): \n",
    "    for m in range(n+1, 1000):\n",
    "        if is_palindrome(m*n):\n",
    "            if m*n > largestPal: \n",
    "                largestPal = m*n\n",
    "print(largestPal)"
   ]
  },
  {
   "cell_type": "code",
   "execution_count": null,
   "metadata": {},
   "outputs": [],
   "source": []
  }
 ],
 "metadata": {
  "kernelspec": {
   "display_name": "qchar-env",
   "language": "python",
   "name": "python3"
  },
  "language_info": {
   "codemirror_mode": {
    "name": "ipython",
    "version": 3
   },
   "file_extension": ".py",
   "mimetype": "text/x-python",
   "name": "python",
   "nbconvert_exporter": "python",
   "pygments_lexer": "ipython3",
   "version": "3.8.0"
  },
  "orig_nbformat": 4,
  "vscode": {
   "interpreter": {
    "hash": "fdc2ba4caa871e09ca6f975a1d0db2ecf061970a575f434ee01428d85468caaa"
   }
  }
 },
 "nbformat": 4,
 "nbformat_minor": 2
}
